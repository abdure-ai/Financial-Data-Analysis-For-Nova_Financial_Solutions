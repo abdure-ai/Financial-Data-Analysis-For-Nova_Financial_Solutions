{
 "cells": [
  {
   "cell_type": "code",
   "execution_count": 20,
   "metadata": {},
   "outputs": [],
   "source": [
    "import os\n",
    "import sys\n",
    "import pandas as pd"
   ]
  },
  {
   "cell_type": "code",
   "execution_count": 21,
   "metadata": {},
   "outputs": [],
   "source": [
    "os.chdir('../scripts/')\n",
    "import load_file as load_file\n"
   ]
  },
  {
   "cell_type": "code",
   "execution_count": 22,
   "metadata": {},
   "outputs": [
    {
     "name": "stdout",
     "output_type": "stream",
     "text": [
      "File '../Data/yfinance_data/AMZN_historical_data.csv' loaded successfully.\n",
      "         Date      Open      High       Low     Close  Adj Close      Volume  \\\n",
      "0  1997-05-15  0.121875  0.125000  0.096354  0.097917   0.097917  1443120000   \n",
      "1  1997-05-16  0.098438  0.098958  0.085417  0.086458   0.086458   294000000   \n",
      "2  1997-05-19  0.088021  0.088542  0.081250  0.085417   0.085417   122136000   \n",
      "3  1997-05-20  0.086458  0.087500  0.081771  0.081771   0.081771   109344000   \n",
      "4  1997-05-21  0.081771  0.082292  0.068750  0.071354   0.071354   377064000   \n",
      "\n",
      "   Dividends  Stock Splits  \n",
      "0        0.0           0.0  \n",
      "1        0.0           0.0  \n",
      "2        0.0           0.0  \n",
      "3        0.0           0.0  \n",
      "4        0.0           0.0  \n"
     ]
    }
   ],
   "source": [
    "# Example usage\n",
    "file_path = '../Data/yfinance_data/AMZN_historical_data.csv'  # Replace with your file path\n",
    "data = load_file.load_file(file_path)\n",
    "\n",
    "# Check the loaded data\n",
    "if data is not None:\n",
    "    print(data.head())\n"
   ]
  },
  {
   "cell_type": "code",
   "execution_count": 23,
   "metadata": {},
   "outputs": [],
   "source": [
    "# Ensure the 'Date' column is in datetime format\n",
    "data['Date'] = pd.to_datetime(data['Date'])\n",
    "\n",
    "# Set 'Date' as the index for better time series visualization\n",
    "data.set_index('Date', inplace=True)"
   ]
  },
  {
   "cell_type": "code",
   "execution_count": null,
   "metadata": {},
   "outputs": [
    {
     "ename": "ImportError",
     "evalue": "cannot import name 'plot_univariant' from 'plot' (c:\\Users\\user\\Projects\\Financial-Data-Analysis-For-Nova_Financial_Solutions\\scripts\\plot.py)",
     "output_type": "error",
     "traceback": [
      "\u001b[1;31m---------------------------------------------------------------------------\u001b[0m",
      "\u001b[1;31mImportError\u001b[0m                               Traceback (most recent call last)",
      "Cell \u001b[1;32mIn[28], line 2\u001b[0m\n\u001b[0;32m      1\u001b[0m \u001b[38;5;28;01mfrom\u001b[39;00m \u001b[38;5;21;01mplot\u001b[39;00m \u001b[38;5;28;01mimport\u001b[39;00m plot_stock_data\n\u001b[1;32m----> 2\u001b[0m \u001b[38;5;28;01mfrom\u001b[39;00m \u001b[38;5;21;01mplot\u001b[39;00m \u001b[38;5;28;01mimport\u001b[39;00m plot_univariant\n\u001b[0;32m      3\u001b[0m \u001b[38;5;28;01mfrom\u001b[39;00m \u001b[38;5;21;01mplot\u001b[39;00m \u001b[38;5;28;01mimport\u001b[39;00m bi_univariant\n\u001b[0;32m      4\u001b[0m \u001b[38;5;28;01mfrom\u001b[39;00m \u001b[38;5;21;01mplot\u001b[39;00m \u001b[38;5;28;01mimport\u001b[39;00m multi_univariant\n",
      "\u001b[1;31mImportError\u001b[0m: cannot import name 'plot_univariant' from 'plot' (c:\\Users\\user\\Projects\\Financial-Data-Analysis-For-Nova_Financial_Solutions\\scripts\\plot.py)"
     ]
    }
   ],
   "source": [
    "from plot import plot_stock_data\n",
    "from plot import plot_univariant\n",
    "from plot import bi_univariant\n",
    "from plot import multi_univariant\n",
    "temp = data.head(30)\n",
    "plot_stock_data(temp, date_column='date', stock_value_column='stock')"
   ]
  },
  {
   "cell_type": "code",
   "execution_count": null,
   "metadata": {},
   "outputs": [],
   "source": []
  }
 ],
 "metadata": {
  "kernelspec": {
   "display_name": ".venv",
   "language": "python",
   "name": "python3"
  },
  "language_info": {
   "codemirror_mode": {
    "name": "ipython",
    "version": 3
   },
   "file_extension": ".py",
   "mimetype": "text/x-python",
   "name": "python",
   "nbconvert_exporter": "python",
   "pygments_lexer": "ipython3",
   "version": "3.10.0"
  }
 },
 "nbformat": 4,
 "nbformat_minor": 2
}
